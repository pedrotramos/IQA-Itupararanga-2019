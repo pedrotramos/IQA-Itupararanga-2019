{
 "cells": [
  {
   "cell_type": "markdown",
   "metadata": {},
   "source": [
    "### Importando bibliotecas necessárias"
   ]
  },
  {
   "cell_type": "code",
   "execution_count": 281,
   "metadata": {},
   "outputs": [],
   "source": [
    "import pandas as pd\n",
    "import numpy as np\n",
    "import matplotlib.pyplot as plt"
   ]
  },
  {
   "cell_type": "markdown",
   "metadata": {},
   "source": [
    "### Lendo dados da planilha"
   ]
  },
  {
   "cell_type": "code",
   "execution_count": 282,
   "metadata": {},
   "outputs": [
    {
     "data": {
      "text/html": [
       "<div>\n",
       "<style scoped>\n",
       "    .dataframe tbody tr th:only-of-type {\n",
       "        vertical-align: middle;\n",
       "    }\n",
       "\n",
       "    .dataframe tbody tr th {\n",
       "        vertical-align: top;\n",
       "    }\n",
       "\n",
       "    .dataframe thead th {\n",
       "        text-align: right;\n",
       "    }\n",
       "</style>\n",
       "<table border=\"1\" class=\"dataframe\">\n",
       "  <thead>\n",
       "    <tr style=\"text-align: right;\">\n",
       "      <th></th>\n",
       "      <th>Data</th>\n",
       "      <th>TempAmostra</th>\n",
       "      <th>pH</th>\n",
       "      <th>Turbidez</th>\n",
       "      <th>DBO</th>\n",
       "      <th>OD</th>\n",
       "      <th>SolTotais</th>\n",
       "      <th>ColiformesFecais</th>\n",
       "      <th>FosforoTotal</th>\n",
       "      <th>NitrogenioTotal</th>\n",
       "      <th>IQA</th>\n",
       "    </tr>\n",
       "  </thead>\n",
       "  <tbody>\n",
       "    <tr>\n",
       "      <th>0</th>\n",
       "      <td>2010-11-18</td>\n",
       "      <td>21.8</td>\n",
       "      <td>7.3</td>\n",
       "      <td>6.1</td>\n",
       "      <td>2</td>\n",
       "      <td>8.1</td>\n",
       "      <td>42.0</td>\n",
       "      <td>1</td>\n",
       "      <td>0.03</td>\n",
       "      <td>0.86</td>\n",
       "      <td>92</td>\n",
       "    </tr>\n",
       "    <tr>\n",
       "      <th>1</th>\n",
       "      <td>2010-09-23</td>\n",
       "      <td>21.1</td>\n",
       "      <td>6.9</td>\n",
       "      <td>5.1</td>\n",
       "      <td>6</td>\n",
       "      <td>7.9</td>\n",
       "      <td>88.0</td>\n",
       "      <td>1</td>\n",
       "      <td>0.02</td>\n",
       "      <td>0.50</td>\n",
       "      <td>88</td>\n",
       "    </tr>\n",
       "    <tr>\n",
       "      <th>2</th>\n",
       "      <td>2010-07-27</td>\n",
       "      <td>21.2</td>\n",
       "      <td>7.5</td>\n",
       "      <td>7.3</td>\n",
       "      <td>2</td>\n",
       "      <td>8.6</td>\n",
       "      <td>80.0</td>\n",
       "      <td>13</td>\n",
       "      <td>0.09</td>\n",
       "      <td>0.55</td>\n",
       "      <td>84</td>\n",
       "    </tr>\n",
       "    <tr>\n",
       "      <th>3</th>\n",
       "      <td>2010-05-20</td>\n",
       "      <td>20.5</td>\n",
       "      <td>6.7</td>\n",
       "      <td>2.5</td>\n",
       "      <td>2</td>\n",
       "      <td>6.4</td>\n",
       "      <td>56.0</td>\n",
       "      <td>1</td>\n",
       "      <td>0.02</td>\n",
       "      <td>0.58</td>\n",
       "      <td>90</td>\n",
       "    </tr>\n",
       "  </tbody>\n",
       "</table>\n",
       "</div>"
      ],
      "text/plain": [
       "        Data  TempAmostra   pH  Turbidez  DBO   OD  SolTotais  \\\n",
       "0 2010-11-18         21.8  7.3       6.1    2  8.1       42.0   \n",
       "1 2010-09-23         21.1  6.9       5.1    6  7.9       88.0   \n",
       "2 2010-07-27         21.2  7.5       7.3    2  8.6       80.0   \n",
       "3 2010-05-20         20.5  6.7       2.5    2  6.4       56.0   \n",
       "\n",
       "   ColiformesFecais  FosforoTotal  NitrogenioTotal  IQA  \n",
       "0                 1          0.03             0.86   92  \n",
       "1                 1          0.02             0.50   88  \n",
       "2                13          0.09             0.55   84  \n",
       "3                 1          0.02             0.58   90  "
      ]
     },
     "execution_count": 282,
     "metadata": {},
     "output_type": "execute_result"
    }
   ],
   "source": [
    "\"RES. ITUPARARANGA (próx. a Barragem)\"\n",
    "data = pd.read_excel('./Dados_ResItupararanga/dados.xlsx')\n",
    "dataNotas = data.copy()\n",
    "dataNotas.head(4)"
   ]
  },
  {
   "cell_type": "markdown",
   "metadata": {},
   "source": [
    "### Cálculo da nota de OD (Oxigênio Dissolvido) [% de saturação]\n",
    "\n",
    "Os dados de OD vieram em mg/L, portanto é necessário fazer a coversão."
   ]
  },
  {
   "cell_type": "code",
   "execution_count": 283,
   "metadata": {},
   "outputs": [],
   "source": [
    "altitude = 840\n",
    "EqGeralOD = 14.62 - (0.3898 * dataNotas[\"TempAmostra\"]) +\\\n",
    "             (0.006969 * (dataNotas[\"TempAmostra\"] ** 2) -\\\n",
    "              (0.00005896 * (dataNotas[\"TempAmostra\"] ** 3))) * ((1 - 0.0000228675 * altitude)) ** 5,167\n",
    "\n",
    "OD_saturado = dataNotas[\"OD\"] * 100 / EqGeralOD[0]\n",
    "\n",
    "i = 0\n",
    "resultadoOD = []\n",
    "\n",
    "for i in range(len(OD_saturado)):\n",
    "    \n",
    "    if OD_saturado[i] > 140:\n",
    "        resultadoOD.append(47)\n",
    "        \n",
    "    elif OD_saturado[i] > 100:\n",
    "        resultadoOD.append(((2.9 * OD_saturado[i])- (0.02496 * OD_saturado[i] ** 2) +\\\n",
    "                            (5.60919 * 0.00001 * (OD_saturado[i] ** 3))) + 3)\n",
    "        \n",
    "    elif OD_saturado[i] > 85:\n",
    "        resultadoOD.append((3.7745 * (OD_saturado[i] ** 0.704889)) + 3)\n",
    "        \n",
    "    elif OD_saturado[i] > 50:\n",
    "        resultadoOD.append(((-1.166 * OD_saturado[i]) + (0.058 * (OD_saturado[i] ** 2)) -\\\n",
    "                             (3.803435 * 0.0001 * (OD_saturado[i] ** 3))) + 3)\n",
    "        \n",
    "    else:\n",
    "        resultadoOD.append(((0.34 * OD_saturado[i]) + (0.008095 * (OD_saturado[i] ** 2)) +\\\n",
    "                             (1.35252 * 0.00001 * (OD_saturado[i] ** 3))) + 3)\n",
    "        \n",
    "dataNotas[\"OD\"] = resultadoOD"
   ]
  },
  {
   "cell_type": "markdown",
   "metadata": {},
   "source": [
    "### Cálculo da nota de Temperatura da Amostra [°C]\n",
    "\n",
    "Considera-se que a diferença de temperatura é zero, uma vez que nossos\n",
    "cursos hídricos não apresentam grande diferença a montante e a jusante do ponto\n",
    "escolhido, sendo assim o subíndice é considerado igual a 94. "
   ]
  },
  {
   "cell_type": "code",
   "execution_count": 284,
   "metadata": {},
   "outputs": [],
   "source": [
    "dataNotas[\"TempAmostra\"] = 94"
   ]
  },
  {
   "cell_type": "markdown",
   "metadata": {},
   "source": [
    "### Cálculo da nota de Coliformes [NPM/100mL]"
   ]
  },
  {
   "cell_type": "code",
   "execution_count": 285,
   "metadata": {},
   "outputs": [],
   "source": [
    "i = 0\n",
    "resultadoColiformes = []\n",
    "\n",
    "for i in range(len(dataNotas[\"ColiformesFecais\"])):\n",
    "    \n",
    "    if dataNotas[\"ColiformesFecais\"][i] == 0:\n",
    "        resultadoColiformes.append(100)\n",
    "        \n",
    "    else:\n",
    "        coli10 = np.log10(dataNotas[\"ColiformesFecais\"][i])\n",
    "        \n",
    "        if coli10 > 5:\n",
    "            resultadoColiformes.append(3)\n",
    "            \n",
    "        elif coli10 > 1:\n",
    "            resultadoColiformes.append(100 - (37.2 * coli10) + (3.60743 * (coli10 ** 2)))\n",
    "            \n",
    "        else:\n",
    "            resultadoColiformes.append(100 - (33 * coli10))\n",
    "\n",
    "dataNotas[\"ColiformesFecais\"] = resultadoColiformes"
   ]
  },
  {
   "cell_type": "markdown",
   "metadata": {},
   "source": [
    "### Cálculo da nota de pH"
   ]
  },
  {
   "cell_type": "code",
   "execution_count": 286,
   "metadata": {},
   "outputs": [],
   "source": [
    "i = 0\n",
    "resultadopH = []\n",
    "\n",
    "for i in range(len(dataNotas[\"pH\"])):\n",
    "    \n",
    "    if dataNotas[\"pH\"][i] <= 2:\n",
    "        resultadopH.append(2)\n",
    "        \n",
    "    elif dataNotas[\"pH\"][i] <= 4:\n",
    "        resultadopH.append(13.6 - (10.6 * dataNotas[\"pH\"][i]) + (2.4364 * (dataNotas[\"pH\"][i] ** 2)))\n",
    "        \n",
    "    elif dataNotas[\"pH\"][i] <= 6.2:\n",
    "        resultadopH.append(155.5 - (77.36 * dataNotas[\"pH\"][i]) + (10.2481  * (dataNotas[\"pH\"][i] ** 2)))\n",
    "        \n",
    "    elif dataNotas[\"pH\"][i] <= 7:\n",
    "        resultadopH.append(-657.2 + (197.38 * dataNotas[\"pH\"][i]) - (12.9167  * (dataNotas[\"pH\"][i] ** 2)))\n",
    "        \n",
    "    elif dataNotas[\"pH\"][i] <= 8:\n",
    "        resultadopH.append(-427.8 + (142.05 * dataNotas[\"pH\"][i]) - (9.695  * (dataNotas[\"pH\"][i] ** 2)))\n",
    "    \n",
    "    elif dataNotas[\"pH\"][i] <= 8.5:\n",
    "        resultadopH.append(216 - (16 * dataNotas[\"pH\"][i]))\n",
    "        \n",
    "    elif dataNotas[\"pH\"][i] <= 9:\n",
    "        resultadopH.append(1415823 * (np.exp(-1.1507 * dataNotas[\"pH\"][i])))\n",
    "        \n",
    "    elif dataNotas[\"pH\"][i] <= 10:\n",
    "        resultadopH.append(228 - (27 * dataNotas[\"pH\"][i]))\n",
    "        \n",
    "    elif dataNotas[\"pH\"][i] <= 12:\n",
    "        resultadopH.append(633 - (106.5 * dataNotas[\"pH\"][i]) + (4.5  * (dataNotas[\"pH\"][i] ** 2)))\n",
    "        \n",
    "    else:\n",
    "        resultadopH.append(3)\n",
    "\n",
    "dataNotas[\"pH\"] = resultadopH"
   ]
  },
  {
   "cell_type": "markdown",
   "metadata": {},
   "source": [
    "### Cálculo da nota de DBO (Demanda Bioquímica de Oxigênio) [mg/L]"
   ]
  },
  {
   "cell_type": "code",
   "execution_count": 287,
   "metadata": {},
   "outputs": [],
   "source": [
    "i = 0\n",
    "resultadoDBO = []\n",
    "\n",
    "for i in range(len(dataNotas[\"DBO\"])):\n",
    "    \n",
    "    if dataNotas[\"DBO\"][i] <= 5:\n",
    "        resultadoDBO.append(99.96 * np.exp((-0.1232728) * dataNotas[\"DBO\"][i]))\n",
    "    \n",
    "    elif dataNotas[\"DBO\"][i] <= 15:\n",
    "        resultadoDBO.append(104.67 - (31.5463 * np.log10(dataNotas[\"DBO\"][i])))\n",
    "        \n",
    "    elif dataNotas[\"DBO\"][i] <= 30:\n",
    "        resultadoDBO.append(4394.91 * (dataNotas[\"DBO\"][i] ** (-1.99809)))\n",
    "        \n",
    "    else:\n",
    "        resultadoDBO.append(2)\n",
    "        \n",
    "dataNotas[\"DBO\"] = resultadoDBO"
   ]
  },
  {
   "cell_type": "markdown",
   "metadata": {},
   "source": [
    "### Cálculo da nota de Nitrogênio Total [mg/L]"
   ]
  },
  {
   "cell_type": "code",
   "execution_count": 288,
   "metadata": {},
   "outputs": [],
   "source": [
    "i = 0\n",
    "resultadoNT = []\n",
    "\n",
    "for i in range(len(dataNotas[\"NitrogenioTotal\"])):  \n",
    "    \n",
    "    if dataNotas[\"NitrogenioTotal\"][i] <= 10:\n",
    "        resultadoNT.append(100 - (8.169 * dataNotas[\"NitrogenioTotal\"][i]) +\\\n",
    "                           (0.3059 * (dataNotas[\"NitrogenioTotal\"][i] ** 2)))\n",
    "    \n",
    "    elif dataNotas[\"NitrogenioTotal\"][i] <= 60:\n",
    "        resultadoNT.append(101.9 - 23.1023 * np.log(dataNotas[\"NitrogenioTotal\"][i]))\n",
    "        \n",
    "    elif dataNotas[\"NitrogenioTotal\"][i] <= 100:\n",
    "        resultadoNT.append(159.3148 * 2.7828 ** (dataNotas[\"NitrogenioTotal\"][i] * (-0.512842)))\n",
    "        \n",
    "    else:\n",
    "        resultadoNT.append(1)\n",
    "        \n",
    "dataNotas[\"NitrogenioTotal\"] = resultadoNT"
   ]
  },
  {
   "cell_type": "markdown",
   "metadata": {},
   "source": [
    "### Cálculo da nota de Fósforo Total [mg/L]\n",
    "\n",
    "É necessário converter para fosfato. O fator de conversão é 3.066"
   ]
  },
  {
   "cell_type": "code",
   "execution_count": 289,
   "metadata": {},
   "outputs": [],
   "source": [
    "i = 0\n",
    "resultadoFT = []\n",
    "\n",
    "for i in range(len(dataNotas[\"FosforoTotal\"])):\n",
    "    PO4 = dataNotas[\"FosforoTotal\"][i] * 3.066\n",
    "    \n",
    "    if dataNotas[\"FosforoTotal\"][i] <= 1:\n",
    "        resultadoFT.append(99 * np.exp((-0.91629 * PO4)))\n",
    "    \n",
    "    elif dataNotas[\"FosforoTotal\"][i] <= 5:\n",
    "        resultadoFT.append(57.6 - 20.178 * PO4 + 2.1326 * (PO4 ** 2))\n",
    "        \n",
    "    elif dataNotas[\"FosforoTotal\"][i] <= 10:\n",
    "        resultadoFT.append(19.8 * np.exp((-0.13544 * PO4)))\n",
    "        \n",
    "    else:\n",
    "        resultadoFT.append(1)\n",
    "        \n",
    "dataNotas[\"FosforoTotal\"] = resultadoFT"
   ]
  },
  {
   "cell_type": "markdown",
   "metadata": {},
   "source": [
    "### Cálculo da nota de Turbidez [UFT]"
   ]
  },
  {
   "cell_type": "code",
   "execution_count": 290,
   "metadata": {},
   "outputs": [],
   "source": [
    "i = 0\n",
    "resultadoTurbidez = []\n",
    "\n",
    "for i in range(len(dataNotas[\"Turbidez\"])):\n",
    "    \n",
    "    if dataNotas[\"Turbidez\"][i] <= 25:\n",
    "        resultadoTurbidez.append(100.17 - 2.67 * dataNotas[\"Turbidez\"][i] + 0.03775 * (dataNotas[\"Turbidez\"][i] ** 2))\n",
    "    \n",
    "    elif dataNotas[\"Turbidez\"][i] <= 100:\n",
    "        resultadoTurbidez.append(84.76 * np.exp(-0.016206 * dataNotas[\"Turbidez\"][i]))\n",
    "        \n",
    "    else:\n",
    "        resultadoTurbidez.append(5)\n",
    "        \n",
    "dataNotas[\"Turbidez\"] = resultadoTurbidez"
   ]
  },
  {
   "cell_type": "markdown",
   "metadata": {},
   "source": [
    "### Cálculo da nota de Sólidos Totais [mg/L]"
   ]
  },
  {
   "cell_type": "code",
   "execution_count": 291,
   "metadata": {},
   "outputs": [],
   "source": [
    "i = 0\n",
    "resultadoST = []\n",
    "\n",
    "for i in range(len(dataNotas[\"SolTotais\"])):\n",
    "    \n",
    "    if dataNotas[\"SolTotais\"][i] <= 150:\n",
    "        resultadoST.append(79.75 + 0.166 * dataNotas[\"SolTotais\"][i] - 0.001088 * (dataNotas[\"SolTotais\"][i] ** 2))\n",
    "    \n",
    "    elif dataNotas[\"SolTotais\"][i] <= 500:\n",
    "        resultadoST.append(101.67 - 0.13917 * dataNotas[\"SolTotais\"][i])\n",
    "        \n",
    "    else:\n",
    "        resultadoST.append(32)\n",
    "        \n",
    "dataNotas[\"SolTotais\"] = resultadoST"
   ]
  },
  {
   "cell_type": "markdown",
   "metadata": {},
   "source": [
    "### Cálculo do IQA"
   ]
  },
  {
   "cell_type": "code",
   "execution_count": 292,
   "metadata": {},
   "outputs": [
    {
     "data": {
      "text/html": [
       "<div>\n",
       "<style scoped>\n",
       "    .dataframe tbody tr th:only-of-type {\n",
       "        vertical-align: middle;\n",
       "    }\n",
       "\n",
       "    .dataframe tbody tr th {\n",
       "        vertical-align: top;\n",
       "    }\n",
       "\n",
       "    .dataframe thead th {\n",
       "        text-align: right;\n",
       "    }\n",
       "</style>\n",
       "<table border=\"1\" class=\"dataframe\">\n",
       "  <thead>\n",
       "    <tr style=\"text-align: right;\">\n",
       "      <th></th>\n",
       "      <th>Data</th>\n",
       "      <th>TempAmostra</th>\n",
       "      <th>pH</th>\n",
       "      <th>Turbidez</th>\n",
       "      <th>DBO</th>\n",
       "      <th>OD</th>\n",
       "      <th>SolTotais</th>\n",
       "      <th>ColiformesFecais</th>\n",
       "      <th>FosforoTotal</th>\n",
       "      <th>NitrogenioTotal</th>\n",
       "      <th>IQA</th>\n",
       "    </tr>\n",
       "  </thead>\n",
       "  <tbody>\n",
       "    <tr>\n",
       "      <th>0</th>\n",
       "      <td>2010-11-18</td>\n",
       "      <td>94</td>\n",
       "      <td>92.518450</td>\n",
       "      <td>85.287678</td>\n",
       "      <td>78.118313</td>\n",
       "      <td>96.161000</td>\n",
       "      <td>84.802768</td>\n",
       "      <td>100.000000</td>\n",
       "      <td>90.998179</td>\n",
       "      <td>93.200904</td>\n",
       "      <td>91.688559</td>\n",
       "    </tr>\n",
       "    <tr>\n",
       "      <th>1</th>\n",
       "      <td>2010-09-23</td>\n",
       "      <td>94</td>\n",
       "      <td>89.757913</td>\n",
       "      <td>87.534877</td>\n",
       "      <td>80.122207</td>\n",
       "      <td>93.533821</td>\n",
       "      <td>85.932528</td>\n",
       "      <td>100.000000</td>\n",
       "      <td>93.590880</td>\n",
       "      <td>95.991975</td>\n",
       "      <td>91.919598</td>\n",
       "    </tr>\n",
       "    <tr>\n",
       "      <th>2</th>\n",
       "      <td>2010-07-27</td>\n",
       "      <td>94</td>\n",
       "      <td>92.231250</td>\n",
       "      <td>82.690697</td>\n",
       "      <td>78.118313</td>\n",
       "      <td>99.268462</td>\n",
       "      <td>86.066800</td>\n",
       "      <td>63.037658</td>\n",
       "      <td>76.882539</td>\n",
       "      <td>95.599585</td>\n",
       "      <td>85.359681</td>\n",
       "    </tr>\n",
       "    <tr>\n",
       "      <th>3</th>\n",
       "      <td>2010-05-20</td>\n",
       "      <td>94</td>\n",
       "      <td>85.415337</td>\n",
       "      <td>93.730938</td>\n",
       "      <td>78.118313</td>\n",
       "      <td>78.401747</td>\n",
       "      <td>85.634032</td>\n",
       "      <td>100.000000</td>\n",
       "      <td>93.590880</td>\n",
       "      <td>95.364885</td>\n",
       "      <td>89.034743</td>\n",
       "    </tr>\n",
       "  </tbody>\n",
       "</table>\n",
       "</div>"
      ],
      "text/plain": [
       "        Data  TempAmostra         pH   Turbidez        DBO         OD  \\\n",
       "0 2010-11-18           94  92.518450  85.287678  78.118313  96.161000   \n",
       "1 2010-09-23           94  89.757913  87.534877  80.122207  93.533821   \n",
       "2 2010-07-27           94  92.231250  82.690697  78.118313  99.268462   \n",
       "3 2010-05-20           94  85.415337  93.730938  78.118313  78.401747   \n",
       "\n",
       "   SolTotais  ColiformesFecais  FosforoTotal  NitrogenioTotal        IQA  \n",
       "0  84.802768        100.000000     90.998179        93.200904  91.688559  \n",
       "1  85.932528        100.000000     93.590880        95.991975  91.919598  \n",
       "2  86.066800         63.037658     76.882539        95.599585  85.359681  \n",
       "3  85.634032        100.000000     93.590880        95.364885  89.034743  "
      ]
     },
     "execution_count": 292,
     "metadata": {},
     "output_type": "execute_result"
    }
   ],
   "source": [
    "pesos = {\n",
    "    \"OD\" : 0.17,\n",
    "    \"ColiformesFecais\" : 0.15,\n",
    "    \"pH\" : 0.12,\n",
    "    \"DBO\" : 0.1,\n",
    "    \"FosforoTotal\" : 0.1,\n",
    "    \"TempAmostra\" : 0.1,\n",
    "    \"NitrogenioTotal\" : 0.1,\n",
    "    \"Turbidez\" : 0.08,\n",
    "    \"SolTotais\" : 0.08\n",
    "}\n",
    "\n",
    "dataNotas[\"IQA\"] = 0\n",
    "for key in pesos:\n",
    "    dataNotas[\"IQA\"] += dataNotas[key] * pesos[key]\n",
    "    \n",
    "dataNotas.head(4)"
   ]
  },
  {
   "cell_type": "code",
   "execution_count": 295,
   "metadata": {},
   "outputs": [],
   "source": [
    "dataNotas.to_excel(\"./Dados_ResItupararanga/IQA_Calculado.xlsx\")"
   ]
  },
  {
   "cell_type": "code",
   "execution_count": null,
   "metadata": {},
   "outputs": [],
   "source": []
  }
 ],
 "metadata": {
  "kernelspec": {
   "display_name": "Python 3",
   "language": "python",
   "name": "python3"
  },
  "language_info": {
   "codemirror_mode": {
    "name": "ipython",
    "version": 3
   },
   "file_extension": ".py",
   "mimetype": "text/x-python",
   "name": "python",
   "nbconvert_exporter": "python",
   "pygments_lexer": "ipython3",
   "version": "3.7.4"
  }
 },
 "nbformat": 4,
 "nbformat_minor": 2
}
